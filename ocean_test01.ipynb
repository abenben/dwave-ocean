{
 "cells": [
  {
   "cell_type": "code",
   "execution_count": null,
   "metadata": {},
   "outputs": [],
   "source": [
    "#pip install "
   ]
  },
  {
   "cell_type": "code",
   "execution_count": 1,
   "metadata": {},
   "outputs": [],
   "source": [
    "from dimod import *"
   ]
  },
  {
   "cell_type": "code",
   "execution_count": 2,
   "metadata": {},
   "outputs": [
    {
     "name": "stdout",
     "output_type": "stream",
     "text": [
      "<dimod.reference.samplers.exact_solver.ExactSolver object at 0x111dfecc0>\n"
     ]
    }
   ],
   "source": [
    "print(ExactSolver())"
   ]
  },
  {
   "cell_type": "code",
   "execution_count": 3,
   "metadata": {},
   "outputs": [
    {
     "name": "stdout",
     "output_type": "stream",
     "text": [
      "{1: -1, 2: 1} \t E=  -11.0\n",
      "{1: 1, 2: -1} \t E=  1.0\n",
      "{1: 1, 2: 1} \t E=  3.0\n",
      "{1: -1, 2: -1} \t E=  7.0\n"
     ]
    }
   ],
   "source": [
    "h = {1: 2.0, 2: -4.0}\n",
    "j = {(1, 2): 5.0}\n",
    "r = ExactSolver().sample_ising(h,j)\n",
    "for s, e in r.data(['sample', 'energy']):\n",
    "    print(s, '\\t E= ', e)"
   ]
  },
  {
   "cell_type": "code",
   "execution_count": 4,
   "metadata": {},
   "outputs": [
    {
     "name": "stdout",
     "output_type": "stream",
     "text": [
      "{0: 0, 1: 1} \t E =  -11.0\n",
      "{0: 1, 1: 0} \t E =  1.0\n",
      "{0: 1, 1: 1} \t E =  3.0\n",
      "{0: 0, 1: 0} \t E =  7.0\n"
     ]
    }
   ],
   "source": [
    "a = {0: -6.0, 1: -18.0}\n",
    "b = {(0, 1): 20.0}\n",
    "bqm = BinaryQuadraticModel(a, b, 7.0, BINARY)\n",
    "r = ExactSolver().sample(bqm)\n",
    "for s, e in r.data(['sample', 'energy']):\n",
    "    print(s,'\\t E = ', e)"
   ]
  },
  {
   "cell_type": "code",
   "execution_count": 5,
   "metadata": {},
   "outputs": [
    {
     "name": "stdout",
     "output_type": "stream",
     "text": [
      "{0: 0, 1: 1} \t E =  -11.0\n",
      "{0: 1, 1: 0} \t E =  1.0\n",
      "{0: 1, 1: 1} \t E =  3.0\n",
      "{0: 0, 1: 0} \t E =  7.0\n"
     ]
    }
   ],
   "source": [
    "Q = {(0, 0): -6.0, (1, 1): -18.0, (0, 1):20}\n",
    "bqm = BinaryQuadraticModel.from_qubo(Q, 7.0)\n",
    "r = ExactSolver().sample(bqm)\n",
    "for s, e in r.data(['sample', 'energy']):\n",
    "    print(s, '\\t E = ', e)"
   ]
  },
  {
   "cell_type": "code",
   "execution_count": 6,
   "metadata": {},
   "outputs": [
    {
     "name": "stdout",
     "output_type": "stream",
     "text": [
      "{0: -1, 1: 1} \t E =  -11.0\n",
      "{0: 1, 1: -1} \t E =  1.0\n",
      "{0: 1, 1: 1} \t E =  3.0\n",
      "{0: -1, 1: -1} \t E =  7.0\n"
     ]
    }
   ],
   "source": [
    "h = {0: 2.0, 1: -4.0}\n",
    "J = {(0, 1): 5.0}\n",
    "bqm = BinaryQuadraticModel(h, J, 0.0, SPIN)\n",
    "r = ExactSolver().sample(bqm)\n",
    "for s, e in r.data(['sample','energy']):\n",
    "    print(s, '\\t E = ', e)"
   ]
  },
  {
   "cell_type": "code",
   "execution_count": 7,
   "metadata": {},
   "outputs": [
    {
     "data": {
      "text/plain": [
       "({1: 2.0, 2: -4.0}, {(1, 2): 5.0}, 0.0)"
      ]
     },
     "execution_count": 7,
     "metadata": {},
     "output_type": "execute_result"
    }
   ],
   "source": [
    "#QUBOモデルをイジングモデル に変換\n",
    "Q = {(1, 1): -6.0, (1, 2): 20.0, (2, 2): -18.0}\n",
    "qubo_to_ising(Q, 7.0)"
   ]
  },
  {
   "cell_type": "code",
   "execution_count": 8,
   "metadata": {},
   "outputs": [
    {
     "data": {
      "text/plain": [
       "-11.0"
      ]
     },
     "execution_count": 8,
     "metadata": {},
     "output_type": "execute_result"
    }
   ],
   "source": [
    "h = {1: 2, 2:-4}\n",
    "J = {(1, 2): 5}\n",
    "s = {1: -1, 2: 1}\n",
    "ising_energy(s, h, J, 0.0)"
   ]
  },
  {
   "cell_type": "code",
   "execution_count": 9,
   "metadata": {},
   "outputs": [
    {
     "data": {
      "text/plain": [
       "-11.0"
      ]
     },
     "execution_count": 9,
     "metadata": {},
     "output_type": "execute_result"
    }
   ],
   "source": [
    "Q = {(1, 1): -6, (1, 2): 20.0, (2, 2): -18.0}\n",
    "x = {1: 0, 2: 1}\n",
    "qubo_energy(x, Q, 7.0)"
   ]
  },
  {
   "cell_type": "code",
   "execution_count": null,
   "metadata": {},
   "outputs": [],
   "source": [
    "from dimod import *\n",
    "import matplotlib.pyplot as plt\n",
    "import networkx as nx"
   ]
  },
  {
   "cell_type": "code",
   "execution_count": null,
   "metadata": {},
   "outputs": [],
   "source": [
    "bqm = BinaryQuadraticModel({0: 2, 1: 1, 2: 3},\n",
    "                           {(0, 1):2, (1, 2):4, (0, 2): 3},\n",
    "                           7.0,\n",
    "                           SPIN)"
   ]
  },
  {
   "cell_type": "code",
   "execution_count": null,
   "metadata": {},
   "outputs": [],
   "source": [
    "g = bqm.to_networkx_graph()\n",
    "nx.draw_networkx(g)\n",
    "plt.axis('off')\n",
    "plt.show()"
   ]
  },
  {
   "cell_type": "code",
   "execution_count": null,
   "metadata": {},
   "outputs": [],
   "source": [
    "r = ExactSolver().sample(bqm)\n",
    "for s, e in r.data(['sample', 'energy']):\n",
    "    print(s, '\\t E = ', e)"
   ]
  },
  {
   "cell_type": "code",
   "execution_count": null,
   "metadata": {},
   "outputs": [],
   "source": [
    "g = bqm.to_networkx_graph()\n",
    "nx.draw_networkx(g)\n",
    "plt.axis('off')\n",
    "plt.show()"
   ]
  },
  {
   "cell_type": "code",
   "execution_count": null,
   "metadata": {},
   "outputs": [],
   "source": [
    "for e in r.data(['energy'], name = 'E'):\n",
    "    print(e)"
   ]
  },
  {
   "cell_type": "code",
   "execution_count": null,
   "metadata": {},
   "outputs": [],
   "source": [
    "for e in r.data(['energy'], name = 'E'):\n",
    "    print(e.energy)"
   ]
  },
  {
   "cell_type": "code",
   "execution_count": null,
   "metadata": {},
   "outputs": [],
   "source": [
    "%matplotlib inline"
   ]
  },
  {
   "cell_type": "code",
   "execution_count": null,
   "metadata": {},
   "outputs": [],
   "source": [
    "x=[]\n",
    "y=[]"
   ]
  },
  {
   "cell_type": "code",
   "execution_count": null,
   "metadata": {},
   "outputs": [],
   "source": [
    "i=0"
   ]
  },
  {
   "cell_type": "code",
   "execution_count": null,
   "metadata": {},
   "outputs": [],
   "source": [
    "for e, in r.data(['energy']):\n",
    "    x.append(i)\n",
    "    y.append(e)\n",
    "    i += 1\n",
    "plt.bar(x, y, width=0.6, color=\"blue\")"
   ]
  },
  {
   "cell_type": "code",
   "execution_count": null,
   "metadata": {},
   "outputs": [],
   "source": [
    "for s in r.samples():\n",
    "    print(s)"
   ]
  },
  {
   "cell_type": "code",
   "execution_count": null,
   "metadata": {},
   "outputs": [],
   "source": [
    "print(r.variable_labels)\n",
    "print(r.record.energy)\n",
    "print(r.record.sample)"
   ]
  },
  {
   "cell_type": "code",
   "execution_count": null,
   "metadata": {},
   "outputs": [],
   "source": [
    "x=[]\n",
    "y=[]\n",
    "for s in r.record.sample:\n",
    "    x.append(str(s))\n",
    "for e in r.record.energy:\n",
    "    y.append(e)\n",
    "plt.figure(figsize=(9,5))\n",
    "plt.title('Binary Quadratic Model')\n",
    "plt.bar(x, y, width=0.6, color=\"blue\")"
   ]
  },
  {
   "cell_type": "code",
   "execution_count": null,
   "metadata": {},
   "outputs": [],
   "source": [
    "bqm = BinaryQuadraticModel({0: 2, 1: 1, 2: 3},\n",
    "                           {(0, 1):2, (1, 2):4, (0, 2): 3},\n",
    "                           7.0,\n",
    "                           SPIN)"
   ]
  },
  {
   "cell_type": "code",
   "execution_count": null,
   "metadata": {},
   "outputs": [],
   "source": [
    "r = SimulatedAnnealingSampler().sample(bqm)"
   ]
  },
  {
   "cell_type": "code",
   "execution_count": null,
   "metadata": {},
   "outputs": [],
   "source": [
    "for s, e in r.data(['sample','energy']):\n",
    "    print(s,'\\t E = ', e)"
   ]
  },
  {
   "cell_type": "code",
   "execution_count": null,
   "metadata": {},
   "outputs": [],
   "source": [
    "r = SimulatedAnnealingSampler().sample(bqm, num_reads=2)\n",
    "for s, e in r.data(['sample','energy']):\n",
    "    print(s,'\\t E = ', e)"
   ]
  },
  {
   "cell_type": "code",
   "execution_count": null,
   "metadata": {},
   "outputs": [],
   "source": [
    "r = SimulatedAnnealingSampler().sample(bqm, num_reads=1000)\n",
    "for s, e in r.data(['sample','energy']):\n",
    "    print(s,'\\t E = ', e)"
   ]
  },
  {
   "cell_type": "code",
   "execution_count": null,
   "metadata": {},
   "outputs": [],
   "source": [
    "r = SimulatedAnnealingSampler().sample(bqm, num_reads=1000)\n",
    "x=[]\n",
    "y=[]\n",
    "i = 0\n",
    "n = 0\n",
    "for e in r.record.energy:\n",
    "    x.append(i)\n",
    "    y.append(e)\n",
    "    if e > 0: n += 1\n",
    "    i += 1\n",
    "plt.title('SimulatedAnnealingSampler: failed:' + str(n))\n",
    "plt.bar(x, y, width=0.6, color=\"blue\")"
   ]
  },
  {
   "cell_type": "code",
   "execution_count": null,
   "metadata": {},
   "outputs": [],
   "source": [
    "r = RandomSampler().sample(bqm)\n",
    "for s, e in r.data(['sample','energy']):\n",
    "    print(s,'\\t E = ', e)"
   ]
  },
  {
   "cell_type": "code",
   "execution_count": null,
   "metadata": {},
   "outputs": [],
   "source": [
    "r = RandomSampler().sample(bqm, num_reads=2)\n",
    "for s, e in r.data(['sample','energy']):\n",
    "    print(s,'\\t E = ', e)"
   ]
  },
  {
   "cell_type": "code",
   "execution_count": null,
   "metadata": {},
   "outputs": [],
   "source": [
    "r = RandomSampler().sample(bqm, num_reads=1000)\n",
    "x=[]\n",
    "y=[]\n",
    "i = 0\n",
    "n = 0\n",
    "for e in r.record.energy:\n",
    "    x.append(i)\n",
    "    y.append(e)\n",
    "    if e > 0: n += 1\n",
    "    i += 1\n",
    "plt.title('RandomSampler: failed:' + str(n))\n",
    "plt.bar(x, y, width=0.6, color=\"blue\")"
   ]
  },
  {
   "cell_type": "code",
   "execution_count": null,
   "metadata": {},
   "outputs": [],
   "source": [
    "import neal\n",
    "r = neal.SimulatedAnnealingSampler().sample(bqm)\n",
    "for s, e in r.data(['sample','energy']):\n",
    "    print(s,'\\t E = ', e)"
   ]
  },
  {
   "cell_type": "code",
   "execution_count": null,
   "metadata": {},
   "outputs": [],
   "source": [
    "import neal\n",
    "r = neal.SimulatedAnnealingSampler().sample(bqm,seed=2244,\n",
    "beta_range=[0.1, 4.0], num_reads=1000, sweeps=20,\n",
    "beta_schedule_type='geometric')\n",
    "x=[]\n",
    "y=[]\n",
    "i = 0\n",
    "n = 0\n",
    "for e in r.record.energy:\n",
    "    x.append(i)\n",
    "    y.append(e)\n",
    "    if e > 0: n += 1\n",
    "    i += 1\n",
    "plt.title('neal.SimulatedAnnealingSampler: failed:' + str(n))\n",
    "plt.bar(x, y, width=0.6, color=\"blue\")"
   ]
  },
  {
   "cell_type": "code",
   "execution_count": null,
   "metadata": {},
   "outputs": [],
   "source": [
    "import neal\n",
    "r = neal.SimulatedAnnealingSampler().sample(bqm,seed=2244,\n",
    "beta_range=[0.1, 4.0], num_reads=1000, sweeps=20,\n",
    "beta_schedule_type='linear')\n",
    "x=[]\n",
    "y=[]\n",
    "i = 0\n",
    "n = 0\n",
    "for e in r.record.energy:\n",
    "    x.append(i)\n",
    "    y.append(e)\n",
    "    if e > 0: n += 1\n",
    "    i += 1\n",
    "plt.title('neal.SimulatedAnnealingSampler: failed:' + str(n))\n",
    "plt.bar(x, y, width=0.6, color=\"blue\")"
   ]
  },
  {
   "cell_type": "code",
   "execution_count": null,
   "metadata": {},
   "outputs": [],
   "source": [
    "from dwave_qbsolv import QBSolv\n",
    "r = QBSolv().sample(bqm)\n",
    "for s, e in r.data(['sample','energy']):\n",
    "    print(s,'\\t E = ', e)"
   ]
  },
  {
   "cell_type": "code",
   "execution_count": null,
   "metadata": {},
   "outputs": [],
   "source": [
    "Q = {(0, 0): -6.0, (1, 1): -10.0, (2, 2): -8.0, (0,1): 8.0, (1,2): 16.0, (0,2):12.0 }"
   ]
  },
  {
   "cell_type": "code",
   "execution_count": null,
   "metadata": {},
   "outputs": [],
   "source": [
    "r = QBSolv().sample_qubo(Q)\n",
    "for s, e in r.data(['sample','energy']):\n",
    "    print(s,'\\t E = ', e)"
   ]
  },
  {
   "cell_type": "code",
   "execution_count": null,
   "metadata": {},
   "outputs": [],
   "source": [
    "import sympy\n",
    "x0 = sympy.Symbol(\"x0\")\n",
    "x1 = sympy.Symbol(\"x1\")\n",
    "x2 = sympy.Symbol(\"x2\")\n",
    "ep = ((x0 + 2 * x1) * (1 + 2 * x2) - 6) ** 2\n",
    "sympy.expand(ep)"
   ]
  },
  {
   "cell_type": "code",
   "execution_count": null,
   "metadata": {},
   "outputs": [],
   "source": [
    "ep2 = x0 + 2* x1 + 3* x2\n",
    "sympy.expand(ep2)"
   ]
  },
  {
   "cell_type": "code",
   "execution_count": null,
   "metadata": {},
   "outputs": [],
   "source": [
    "ep2.subs(x0,3).subs(x1,1).subs(x2,1)"
   ]
  },
  {
   "cell_type": "code",
   "execution_count": null,
   "metadata": {},
   "outputs": [],
   "source": [
    "import wildqat as wq\n",
    "a = wq.opt()"
   ]
  },
  {
   "cell_type": "code",
   "execution_count": null,
   "metadata": {},
   "outputs": [],
   "source": [
    "a.qubo = [[-3,4],[0,-4]]"
   ]
  },
  {
   "cell_type": "code",
   "execution_count": null,
   "metadata": {},
   "outputs": [],
   "source": [
    "a.sa()"
   ]
  },
  {
   "cell_type": "code",
   "execution_count": 28,
   "metadata": {},
   "outputs": [
    {
     "name": "stdout",
     "output_type": "stream",
     "text": [
      "{0: 1, 1: 1} \t E =  0.0\n",
      "{0: 0, 1: 1} \t E =  1.0\n",
      "{0: 1, 1: 0} \t E =  4.0\n",
      "{0: 0, 1: 0} \t E =  9.0\n"
     ]
    }
   ],
   "source": [
    "Q={(0, 0):-5,(0, 1): 4,(1, 1): -8}\n",
    "bqm = BinaryQuadraticModel.from_qubo(Q, 9.0)\n",
    "r = ExactSolver().sample(bqm)\n",
    "for s, e in r.data(['sample','energy']):\n",
    "    print(s,'\\t E = ', e)"
   ]
  },
  {
   "cell_type": "code",
   "execution_count": null,
   "metadata": {},
   "outputs": [],
   "source": [
    "Q={(0, 0):-5,(0, 1): 4,(1, 1): -8}\n",
    "bqm = BinaryQuadraticModel.from_qubo(Q, 9.0)\n",
    "r = SimulatedAnnealingSampler().sample(bqm)\n",
    "for s, e in r.data(['sample','energy']):\n",
    "    print(s,'\\t E = ', e)"
   ]
  },
  {
   "cell_type": "code",
   "execution_count": null,
   "metadata": {},
   "outputs": [],
   "source": [
    "Q={(0, 0):-5,(0, 1): 4,(1, 1): -8}\n",
    "bqm = BinaryQuadraticModel.from_qubo(Q, 9.0)\n",
    "r = RandomSampler().sample(bqm)\n",
    "for s, e in r.data(['sample','energy']):\n",
    "    print(s,'\\t E = ', e)"
   ]
  },
  {
   "cell_type": "code",
   "execution_count": null,
   "metadata": {},
   "outputs": [],
   "source": [
    "Q={(0, 0):-5,(0, 1): 4,(1, 1): -8}\n",
    "bqm = BinaryQuadraticModel.from_qubo(Q, 9.0)\n",
    "r = neal.SimulatedAnnealingSampler().sample(bqm,seed=2244,\n",
    "beta_range=[0.1, 4.0], num_reads=1000, sweeps=20,\n",
    "beta_schedule_type='linear')\n",
    "for s, e in r.data(['sample','energy']):\n",
    "    print(s,'\\t E = ', e)"
   ]
  },
  {
   "cell_type": "code",
   "execution_count": null,
   "metadata": {},
   "outputs": [],
   "source": [
    "Q={(0, 0):-5,(0, 1): 4,(1, 1): -8}\n",
    "bqm = BinaryQuadraticModel.from_qubo(Q, 9.0)\n",
    "r = neal.SimulatedAnnealingSampler().sample(bqm,seed=2244,\n",
    "beta_range=[0.1, 4.0], num_reads=1000, sweeps=20,\n",
    "beta_schedule_type='geometric')\n",
    "for s, e in r.data(['sample','energy']):\n",
    "    print(s,'\\t E = ', e)"
   ]
  },
  {
   "cell_type": "code",
   "execution_count": null,
   "metadata": {},
   "outputs": [],
   "source": [
    "from dimod import *\n",
    "Q = {(0, 0):-5,\n",
    "     (0, 1): 4,\n",
    "     (1, 1): -8\n",
    "    }\n",
    "b = BinaryQuadraticModel.from_qubo(Q, 9.0)\n",
    "r = SimulatedAnnealingSampler().sample(b)\n",
    "for s, e in r.data(['sample','energy']):\n",
    "    print(s,'\\t E = ', e)"
   ]
  },
  {
   "cell_type": "code",
   "execution_count": null,
   "metadata": {},
   "outputs": [],
   "source": [
    "import wildqat as wq\n",
    "a = wq.opt()\n",
    "a.qubo = [[-3,4],[0,-4]]\n",
    "a.sa()"
   ]
  },
  {
   "cell_type": "code",
   "execution_count": null,
   "metadata": {},
   "outputs": [],
   "source": [
    "from dimod import *\n",
    "Q = {(0, 0):-5,\n",
    "     (0, 1): 4,\n",
    "     (1, 1): -8\n",
    "    }\n",
    "b = BinaryQuadraticModel.from_qubo(Q, 9.0)\n",
    "r = RandomSampler().sample(b)\n",
    "for s, e in r.data(['sample','energy']):\n",
    "    print(s,'\\t E = ', e)"
   ]
  },
  {
   "cell_type": "code",
   "execution_count": null,
   "metadata": {},
   "outputs": [],
   "source": [
    "from dimod import *\n",
    "Q = {(0, 0):-5,\n",
    "     (0, 1): 4,\n",
    "     (1, 1): -8\n",
    "    }\n",
    "b = BinaryQuadraticModel.from_qubo(Q, 9.0)\n",
    "r = SimulatedAnnealingSampler().sample(b)\n",
    "for s, e in r.data(['sample','energy']):\n",
    "    print(s,'\\t E = ', e)"
   ]
  },
  {
   "cell_type": "code",
   "execution_count": null,
   "metadata": {},
   "outputs": [],
   "source": [
    "from dimod import *\n",
    "import neal\n",
    "Q = {(0, 0):-5,\n",
    "     (0, 1): 4,\n",
    "     (1, 1): -8\n",
    "    }\n",
    "b = BinaryQuadraticModel.from_qubo(Q, 9.0)\n",
    "r = neal.SimulatedAnnealingSampler().sample(b,\n",
    "     seed=1111,\n",
    "     sweeps=20,\n",
    "     beta_schedule_type='linear')\n",
    "for s, e in r.data(['sample','energy']):\n",
    "    print(s,'\\t E = ', e)"
   ]
  },
  {
   "cell_type": "code",
   "execution_count": null,
   "metadata": {},
   "outputs": [],
   "source": [
    "from dimod import *\n",
    "import neal\n",
    "Q = {(0, 0):-5,\n",
    "     (0, 1): 4,\n",
    "     (1, 1): -8\n",
    "    }\n",
    "b = BinaryQuadraticModel.from_qubo(Q, 9.0)\n",
    "r = neal.SimulatedAnnealingSampler().sample(b,\n",
    "     seed=1111,\n",
    "     sweeps=20,\n",
    "     beta_schedule_type='geometric')\n",
    "for s, e in r.data(['sample','energy']):\n",
    "    print(s,'\\t E = ', e)"
   ]
  },
  {
   "cell_type": "code",
   "execution_count": null,
   "metadata": {},
   "outputs": [],
   "source": [
    "from dimod import *\n",
    "from dwave_qbsolv import QBSolv\n",
    "Q = {(0, 0):-5,\n",
    "     (0, 1): 4,\n",
    "     (1, 1): -8\n",
    "    }\n",
    "b = BinaryQuadraticModel.from_qubo(Q, 9.0)\n",
    "r = QBSolv().sample(bqm)\n",
    "for s, e in r.data(['sample','energy']):\n",
    "    print(s,'\\t E = ', e)"
   ]
  },
  {
   "cell_type": "code",
   "execution_count": 1,
   "metadata": {},
   "outputs": [
    {
     "name": "stdout",
     "output_type": "stream",
     "text": [
      "{0: 1, 1: 1} \t E =  0.0\n"
     ]
    }
   ],
   "source": [
    "from dimod import *\n",
    "from dwave_qbsolv import QBSolv\n",
    "Q = {(0, 0):-5,\n",
    "     (0, 1): 4,\n",
    "     (1, 1): -8\n",
    "    }\n",
    "b = BinaryQuadraticModel.from_qubo(Q, 9.0)\n",
    "r = QBSolv().sample(b)\n",
    "for s, e in r.data(['sample','energy']):\n",
    "    print(s,'\\t E = ', e)"
   ]
  },
  {
   "cell_type": "code",
   "execution_count": 2,
   "metadata": {},
   "outputs": [
    {
     "ename": "ValueError",
     "evalue": "Endpoint URL and/or token not defined",
     "output_type": "error",
     "traceback": [
      "\u001b[0;31m---------------------------------------------------------------------------\u001b[0m",
      "\u001b[0;31mValueError\u001b[0m                                Traceback (most recent call last)",
      "\u001b[0;32m<ipython-input-2-6a9090314920>\u001b[0m in \u001b[0;36m<module>\u001b[0;34m()\u001b[0m\n\u001b[1;32m      6\u001b[0m     }\n\u001b[1;32m      7\u001b[0m \u001b[0mb\u001b[0m \u001b[0;34m=\u001b[0m \u001b[0mBinaryQuadraticModel\u001b[0m\u001b[0;34m.\u001b[0m\u001b[0mfrom_qubo\u001b[0m\u001b[0;34m(\u001b[0m\u001b[0mQ\u001b[0m\u001b[0;34m,\u001b[0m \u001b[0;36m9.0\u001b[0m\u001b[0;34m)\u001b[0m\u001b[0;34m\u001b[0m\u001b[0m\n\u001b[0;32m----> 8\u001b[0;31m \u001b[0mr\u001b[0m \u001b[0;34m=\u001b[0m \u001b[0mDWaveSampler\u001b[0m\u001b[0;34m(\u001b[0m\u001b[0;34m)\u001b[0m\u001b[0;34m.\u001b[0m\u001b[0msample\u001b[0m\u001b[0;34m(\u001b[0m\u001b[0mb\u001b[0m\u001b[0;34m)\u001b[0m\u001b[0;34m\u001b[0m\u001b[0m\n\u001b[0m\u001b[1;32m      9\u001b[0m \u001b[0;32mfor\u001b[0m \u001b[0ms\u001b[0m\u001b[0;34m,\u001b[0m \u001b[0me\u001b[0m \u001b[0;32min\u001b[0m \u001b[0mr\u001b[0m\u001b[0;34m.\u001b[0m\u001b[0mdata\u001b[0m\u001b[0;34m(\u001b[0m\u001b[0;34m[\u001b[0m\u001b[0;34m'sample'\u001b[0m\u001b[0;34m,\u001b[0m\u001b[0;34m'energy'\u001b[0m\u001b[0;34m]\u001b[0m\u001b[0;34m)\u001b[0m\u001b[0;34m:\u001b[0m\u001b[0;34m\u001b[0m\u001b[0m\n\u001b[1;32m     10\u001b[0m     \u001b[0mprint\u001b[0m\u001b[0;34m(\u001b[0m\u001b[0ms\u001b[0m\u001b[0;34m,\u001b[0m\u001b[0;34m'\\t E = '\u001b[0m\u001b[0;34m,\u001b[0m \u001b[0me\u001b[0m\u001b[0;34m)\u001b[0m\u001b[0;34m\u001b[0m\u001b[0m\n",
      "\u001b[0;32m~/.pyenv/versions/anaconda3-4.0.0/lib/python3.5/site-packages/dwave/system/samplers/dwave_sampler.py\u001b[0m in \u001b[0;36m__init__\u001b[0;34m(self, config_file, profile, endpoint, token, solver, solver_features, proxy, permissive_ssl)\u001b[0m\n\u001b[1;32m    106\u001b[0m         self.client = Client.from_config(config_file=config_file, profile=profile,\n\u001b[1;32m    107\u001b[0m                                          \u001b[0mendpoint\u001b[0m\u001b[0;34m=\u001b[0m\u001b[0mendpoint\u001b[0m\u001b[0;34m,\u001b[0m \u001b[0mtoken\u001b[0m\u001b[0;34m=\u001b[0m\u001b[0mtoken\u001b[0m\u001b[0;34m,\u001b[0m \u001b[0mproxy\u001b[0m\u001b[0;34m=\u001b[0m\u001b[0mproxy\u001b[0m\u001b[0;34m,\u001b[0m\u001b[0;34m\u001b[0m\u001b[0m\n\u001b[0;32m--> 108\u001b[0;31m                                          permissive_ssl=permissive_ssl)\n\u001b[0m\u001b[1;32m    109\u001b[0m \u001b[0;34m\u001b[0m\u001b[0m\n\u001b[1;32m    110\u001b[0m         \u001b[0;31m# TODO: deprecate `solver`` name in favor of name regex in `solver_features`\u001b[0m\u001b[0;34m\u001b[0m\u001b[0;34m\u001b[0m\u001b[0m\n",
      "\u001b[0;32m~/.pyenv/versions/anaconda3-4.0.0/lib/python3.5/site-packages/dwave/cloud/client.py\u001b[0m in \u001b[0;36mfrom_config\u001b[0;34m(cls, config_file, profile, client, endpoint, token, solver, proxy, legacy_config_fallback, **kwargs)\u001b[0m\n\u001b[1;32m    401\u001b[0m \u001b[0;34m\u001b[0m\u001b[0m\n\u001b[1;32m    402\u001b[0m         \u001b[0m_LOGGER\u001b[0m\u001b[0;34m.\u001b[0m\u001b[0mdebug\u001b[0m\u001b[0;34m(\u001b[0m\u001b[0;34m\"Final config used for %s.Client(): %r\"\u001b[0m\u001b[0;34m,\u001b[0m \u001b[0m_client\u001b[0m\u001b[0;34m,\u001b[0m \u001b[0mconfig\u001b[0m\u001b[0;34m)\u001b[0m\u001b[0;34m\u001b[0m\u001b[0m\n\u001b[0;32m--> 403\u001b[0;31m         \u001b[0;32mreturn\u001b[0m \u001b[0m_clients\u001b[0m\u001b[0;34m[\u001b[0m\u001b[0m_client\u001b[0m\u001b[0;34m]\u001b[0m\u001b[0;34m(\u001b[0m\u001b[0;34m**\u001b[0m\u001b[0mconfig\u001b[0m\u001b[0;34m)\u001b[0m\u001b[0;34m\u001b[0m\u001b[0m\n\u001b[0m\u001b[1;32m    404\u001b[0m \u001b[0;34m\u001b[0m\u001b[0m\n\u001b[1;32m    405\u001b[0m     def __init__(self, endpoint=None, token=None, solver=None, proxy=None,\n",
      "\u001b[0;32m~/.pyenv/versions/anaconda3-4.0.0/lib/python3.5/site-packages/dwave/cloud/client.py\u001b[0m in \u001b[0;36m__init__\u001b[0;34m(self, endpoint, token, solver, proxy, permissive_ssl, request_timeout, polling_timeout, **kwargs)\u001b[0m\n\u001b[1;32m    419\u001b[0m         \"\"\"\n\u001b[1;32m    420\u001b[0m         \u001b[0;32mif\u001b[0m \u001b[0;32mnot\u001b[0m \u001b[0mendpoint\u001b[0m \u001b[0;32mor\u001b[0m \u001b[0;32mnot\u001b[0m \u001b[0mtoken\u001b[0m\u001b[0;34m:\u001b[0m\u001b[0;34m\u001b[0m\u001b[0m\n\u001b[0;32m--> 421\u001b[0;31m             \u001b[0;32mraise\u001b[0m \u001b[0mValueError\u001b[0m\u001b[0;34m(\u001b[0m\u001b[0;34m\"Endpoint URL and/or token not defined\"\u001b[0m\u001b[0;34m)\u001b[0m\u001b[0;34m\u001b[0m\u001b[0m\n\u001b[0m\u001b[1;32m    422\u001b[0m \u001b[0;34m\u001b[0m\u001b[0m\n\u001b[1;32m    423\u001b[0m         \u001b[0m_LOGGER\u001b[0m\u001b[0;34m.\u001b[0m\u001b[0mdebug\u001b[0m\u001b[0;34m(\u001b[0m\u001b[0;34m\"Creating a client for endpoint: %r\"\u001b[0m\u001b[0;34m,\u001b[0m \u001b[0mendpoint\u001b[0m\u001b[0;34m)\u001b[0m\u001b[0;34m\u001b[0m\u001b[0m\n",
      "\u001b[0;31mValueError\u001b[0m: Endpoint URL and/or token not defined"
     ]
    }
   ],
   "source": [
    "from dimod import *\n",
    "from dwave.system.samplers import *\n",
    "Q = {(0, 0):-5,\n",
    "     (0, 1): 4,\n",
    "     (1, 1): -8\n",
    "    }\n",
    "b = BinaryQuadraticModel.from_qubo(Q, 9.0)\n",
    "r = DWaveSampler().sample(b)\n",
    "for s, e in r.data(['sample','energy']):\n",
    "    print(s,'\\t E = ', e)"
   ]
  },
  {
   "cell_type": "code",
   "execution_count": 4,
   "metadata": {},
   "outputs": [
    {
     "name": "stdout",
     "output_type": "stream",
     "text": [
      "1.6459569931030273\n"
     ]
    },
    {
     "data": {
      "text/plain": [
       "[1, 1]"
      ]
     },
     "execution_count": 4,
     "metadata": {},
     "output_type": "execute_result"
    }
   ],
   "source": [
    "import wildqat as wq\n",
    "a = wq.opt()\n",
    "a.qubo = [[-5,4],[0,-8]]\n",
    "a.sa()"
   ]
  },
  {
   "cell_type": "code",
   "execution_count": 6,
   "metadata": {},
   "outputs": [
    {
     "data": {
      "text/plain": [
       "({1: 2.0, 2: -4.0}, {(1, 2): 5.0}, 0.0)"
      ]
     },
     "execution_count": 6,
     "metadata": {},
     "output_type": "execute_result"
    }
   ],
   "source": [
    "Q = {(1, 1): -6.0, (1, 2): 20.0, (2, 2): -18.0}\n",
    "qubo_to_ising(Q, 7.0)"
   ]
  },
  {
   "cell_type": "code",
   "execution_count": 7,
   "metadata": {},
   "outputs": [],
   "source": [
    "Q = {(0, 0):-5,\n",
    "     (0, 1): 4,\n",
    "     (1, 1): -8\n",
    "    }"
   ]
  },
  {
   "cell_type": "code",
   "execution_count": 8,
   "metadata": {},
   "outputs": [
    {
     "data": {
      "text/plain": [
       "({0: -1.5, 1: -3.0}, {(0, 1): 1.0}, 3.5)"
      ]
     },
     "execution_count": 8,
     "metadata": {},
     "output_type": "execute_result"
    }
   ],
   "source": [
    "qubo_to_ising(Q, 9.0)"
   ]
  },
  {
   "cell_type": "code",
   "execution_count": 13,
   "metadata": {},
   "outputs": [
    {
     "name": "stdout",
     "output_type": "stream",
     "text": [
      "{0: 1, 1: 1} \t E =  -9.0\n",
      "{0: 0, 1: 1} \t E =  -8.0\n",
      "{0: 1, 1: 0} \t E =  -5.0\n",
      "{0: 0, 1: 0} \t E =  0.0\n"
     ]
    }
   ],
   "source": [
    "b = BinaryQuadraticModel.from_qubo(Q, 0.0)\n",
    "r = ExactSolver().sample(b)\n",
    "for s, e in r.data(['sample','energy']):\n",
    "    print(s,'\\t E = ', e)"
   ]
  },
  {
   "cell_type": "code",
   "execution_count": 33,
   "metadata": {},
   "outputs": [
    {
     "name": "stdout",
     "output_type": "stream",
     "text": [
      "({0: -1.5, 1: -3.0}, {(0, 1): 1.0}, 3.5)\n"
     ]
    }
   ],
   "source": [
    "Q = {(0, 0): -5.0, (0, 1): 4.0, (1, 1): -8.0}\n",
    "print(qubo_to_ising(Q, 9.0))"
   ]
  },
  {
   "cell_type": "code",
   "execution_count": 32,
   "metadata": {},
   "outputs": [
    {
     "name": "stdout",
     "output_type": "stream",
     "text": [
      "{0: 1, 1: 1} \t E =  0.0\n",
      "{0: -1, 1: 1} \t E =  1.0\n",
      "{0: 1, 1: -1} \t E =  4.0\n",
      "{0: -1, 1: -1} \t E =  9.0\n"
     ]
    }
   ],
   "source": [
    "b = BinaryQuadraticModel({0: -1.5, 1: -3.0}, {(0, 1): 1.0}, 3.5,SPIN)\n",
    "r = ExactSolver().sample(b)\n",
    "for s, e in r.data(['sample','energy']):\n",
    "    print(s,'\\t E = ', e)"
   ]
  },
  {
   "cell_type": "code",
   "execution_count": null,
   "metadata": {},
   "outputs": [],
   "source": []
  }
 ],
 "metadata": {
  "kernelspec": {
   "display_name": "Python [conda env:anaconda3-4.0.0]",
   "language": "python",
   "name": "conda-env-anaconda3-4.0.0-py"
  },
  "language_info": {
   "codemirror_mode": {
    "name": "ipython",
    "version": 3
   },
   "file_extension": ".py",
   "mimetype": "text/x-python",
   "name": "python",
   "nbconvert_exporter": "python",
   "pygments_lexer": "ipython3",
   "version": "3.5.6"
  }
 },
 "nbformat": 4,
 "nbformat_minor": 2
}
